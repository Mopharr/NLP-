{
 "cells": [
  {
   "cell_type": "code",
   "execution_count": 1,
   "metadata": {},
   "outputs": [],
   "source": [
    "import pandas as pd"
   ]
  },
  {
   "cell_type": "code",
   "execution_count": 6,
   "metadata": {},
   "outputs": [],
   "source": [
    "data = pd.read_csv('dbb4c4ff1f31-CAC+2022_Training+Data+Set+New.xlsx - Sheet1.csv')"
   ]
  },
  {
   "cell_type": "code",
   "execution_count": 7,
   "metadata": {},
   "outputs": [
    {
     "data": {
      "text/html": [
       "<div>\n",
       "<style scoped>\n",
       "    .dataframe tbody tr th:only-of-type {\n",
       "        vertical-align: middle;\n",
       "    }\n",
       "\n",
       "    .dataframe tbody tr th {\n",
       "        vertical-align: top;\n",
       "    }\n",
       "\n",
       "    .dataframe thead th {\n",
       "        text-align: right;\n",
       "    }\n",
       "</style>\n",
       "<table border=\"1\" class=\"dataframe\">\n",
       "  <thead>\n",
       "    <tr style=\"text-align: right;\">\n",
       "      <th></th>\n",
       "      <th>sor</th>\n",
       "      <th>cdf_seq_no</th>\n",
       "      <th>trans_desc</th>\n",
       "      <th>merchant_cat_code</th>\n",
       "      <th>amt</th>\n",
       "      <th>db_cr_cd</th>\n",
       "      <th>payment_reporting_category</th>\n",
       "      <th>payment_category</th>\n",
       "      <th>is_international</th>\n",
       "      <th>default_brand</th>\n",
       "      <th>default_location</th>\n",
       "      <th>qrated_brand</th>\n",
       "      <th>coalesced_brand</th>\n",
       "      <th>Category</th>\n",
       "    </tr>\n",
       "  </thead>\n",
       "  <tbody>\n",
       "    <tr>\n",
       "      <th>0</th>\n",
       "      <td>HH</td>\n",
       "      <td>T20110701260061756</td>\n",
       "      <td>RECUR DEBIT CRD PMT11/11 DELTA DENTAL OF A11 O...</td>\n",
       "      <td>6300.0</td>\n",
       "      <td>58.34</td>\n",
       "      <td>D</td>\n",
       "      <td>Card</td>\n",
       "      <td>Debit Card</td>\n",
       "      <td>False</td>\n",
       "      <td>DELTA DENTAL OF A11 OF</td>\n",
       "      <td>111-1111111 AR</td>\n",
       "      <td>Delta Dental</td>\n",
       "      <td>Delta Dental</td>\n",
       "      <td>Finance</td>\n",
       "    </tr>\n",
       "    <tr>\n",
       "      <th>1</th>\n",
       "      <td>HH</td>\n",
       "      <td>T201302289909010349</td>\n",
       "      <td>CHECK CRD PURCHASE 11/11 SURETY SOLUTIONS,    ...</td>\n",
       "      <td>NaN</td>\n",
       "      <td>103.00</td>\n",
       "      <td>D</td>\n",
       "      <td>Card</td>\n",
       "      <td>Check Card</td>\n",
       "      <td>False</td>\n",
       "      <td>SURETY SOLUTIONS,</td>\n",
       "      <td>111-111-1111 OR</td>\n",
       "      <td>Surety Solutions</td>\n",
       "      <td>Surety Solutions</td>\n",
       "      <td>Finance</td>\n",
       "    </tr>\n",
       "    <tr>\n",
       "      <th>2</th>\n",
       "      <td>HH</td>\n",
       "      <td>T20130726991361190114550</td>\n",
       "      <td>CHECK CRD PURCHASE 11/11 THE COPY STOP        ...</td>\n",
       "      <td>NaN</td>\n",
       "      <td>22.44</td>\n",
       "      <td>D</td>\n",
       "      <td>Card</td>\n",
       "      <td>Check Card</td>\n",
       "      <td>False</td>\n",
       "      <td>THE COPY STOP</td>\n",
       "      <td>SALT LAKE CIT UT</td>\n",
       "      <td>The Copy Stop</td>\n",
       "      <td>The Copy Stop</td>\n",
       "      <td>Finance</td>\n",
       "    </tr>\n",
       "    <tr>\n",
       "      <th>3</th>\n",
       "      <td>BK</td>\n",
       "      <td>T201207095780929968</td>\n",
       "      <td>MARKET ALERT INC         111-111-1111 TX</td>\n",
       "      <td>7375.0</td>\n",
       "      <td>22.44</td>\n",
       "      <td>NaN</td>\n",
       "      <td>Card</td>\n",
       "      <td>Credit Card</td>\n",
       "      <td>False</td>\n",
       "      <td>MARKET ALERT INC</td>\n",
       "      <td>111-111-1111 TX</td>\n",
       "      <td>Market Alert</td>\n",
       "      <td>Market Alert</td>\n",
       "      <td>Finance</td>\n",
       "    </tr>\n",
       "    <tr>\n",
       "      <th>4</th>\n",
       "      <td>HH</td>\n",
       "      <td>T20131230990558080004939</td>\n",
       "      <td>CHECK CRD PURCHASE 11/11 PERT- NER PERFECT    ...</td>\n",
       "      <td>NaN</td>\n",
       "      <td>66.25</td>\n",
       "      <td>D</td>\n",
       "      <td>Card</td>\n",
       "      <td>Check Card</td>\n",
       "      <td>False</td>\n",
       "      <td>PERT- NER PERFECT</td>\n",
       "      <td>THE WOODLANDS TX</td>\n",
       "      <td>Hometown Insurance Partners</td>\n",
       "      <td>Hometown Insurance Partners</td>\n",
       "      <td>Finance</td>\n",
       "    </tr>\n",
       "  </tbody>\n",
       "</table>\n",
       "</div>"
      ],
      "text/plain": [
       "  sor                cdf_seq_no  \\\n",
       "0  HH        T20110701260061756   \n",
       "1  HH       T201302289909010349   \n",
       "2  HH  T20130726991361190114550   \n",
       "3  BK       T201207095780929968   \n",
       "4  HH  T20131230990558080004939   \n",
       "\n",
       "                                          trans_desc  merchant_cat_code  \\\n",
       "0  RECUR DEBIT CRD PMT11/11 DELTA DENTAL OF A11 O...             6300.0   \n",
       "1  CHECK CRD PURCHASE 11/11 SURETY SOLUTIONS,    ...                NaN   \n",
       "2  CHECK CRD PURCHASE 11/11 THE COPY STOP        ...                NaN   \n",
       "3           MARKET ALERT INC         111-111-1111 TX             7375.0   \n",
       "4  CHECK CRD PURCHASE 11/11 PERT- NER PERFECT    ...                NaN   \n",
       "\n",
       "      amt db_cr_cd payment_reporting_category payment_category  \\\n",
       "0   58.34        D                       Card       Debit Card   \n",
       "1  103.00        D                       Card       Check Card   \n",
       "2   22.44        D                       Card       Check Card   \n",
       "3   22.44      NaN                       Card      Credit Card   \n",
       "4   66.25        D                       Card       Check Card   \n",
       "\n",
       "   is_international           default_brand  default_location  \\\n",
       "0             False  DELTA DENTAL OF A11 OF    111-1111111 AR   \n",
       "1             False       SURETY SOLUTIONS,   111-111-1111 OR   \n",
       "2             False           THE COPY STOP  SALT LAKE CIT UT   \n",
       "3             False        MARKET ALERT INC   111-111-1111 TX   \n",
       "4             False       PERT- NER PERFECT  THE WOODLANDS TX   \n",
       "\n",
       "                  qrated_brand              coalesced_brand Category  \n",
       "0                 Delta Dental                 Delta Dental  Finance  \n",
       "1             Surety Solutions             Surety Solutions  Finance  \n",
       "2                The Copy Stop                The Copy Stop  Finance  \n",
       "3                 Market Alert                 Market Alert  Finance  \n",
       "4  Hometown Insurance Partners  Hometown Insurance Partners  Finance  "
      ]
     },
     "execution_count": 7,
     "metadata": {},
     "output_type": "execute_result"
    }
   ],
   "source": [
    "data.head()"
   ]
  },
  {
   "cell_type": "code",
   "execution_count": 17,
   "metadata": {},
   "outputs": [
    {
     "data": {
      "text/plain": [
       "40000"
      ]
     },
     "execution_count": 17,
     "metadata": {},
     "output_type": "execute_result"
    }
   ],
   "source": [
    "len(data)"
   ]
  },
  {
   "cell_type": "code",
   "execution_count": null,
   "metadata": {},
   "outputs": [],
   "source": []
  }
 ],
 "metadata": {
  "kernelspec": {
   "display_name": "Python 3",
   "language": "python",
   "name": "python3"
  },
  "language_info": {
   "codemirror_mode": {
    "name": "ipython",
    "version": 3
   },
   "file_extension": ".py",
   "mimetype": "text/x-python",
   "name": "python",
   "nbconvert_exporter": "python",
   "pygments_lexer": "ipython3",
   "version": "3.8.3"
  }
 },
 "nbformat": 4,
 "nbformat_minor": 4
}
